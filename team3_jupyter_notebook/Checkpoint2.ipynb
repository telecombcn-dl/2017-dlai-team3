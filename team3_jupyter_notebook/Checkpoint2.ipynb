{
 "cells": [
  {
   "cell_type": "markdown",
   "metadata": {},
   "source": [
    "The code below will generate images corresponding to the ones obtained after SOLUTION 4: the highest reduction in learning rate and a batch size equal to 1. Sadly we still generate the same image independently of the input vector.\n",
    "You can change the variable images_to_generate to generate more faces.\n",
    "\n",
    "(Please restart the kernel each time you run the code)"
   ]
  },
  {
   "cell_type": "code",
   "execution_count": 1,
   "metadata": {
    "collapsed": false
   },
   "outputs": [
    {
     "name": "stdout",
     "output_type": "stream",
     "text": [
      "  [TL] InputLayer  generator/in: (?, 64)\n",
      "  [TL] DenseLayer  generator/Generator/dense2: 4096 identity\n",
      "  [TL] LambdaLayer  generator/lambda_layer\n",
      "  [TL] Conv2dLayer generator/Generator/conv1: shape:[3, 3, 64, 64] strides:[1, 1, 1, 1] pad:SAME act:elu\n",
      "  [TL] Conv2dLayer generator/Generator/conv2: shape:[3, 3, 64, 64] strides:[1, 1, 1, 1] pad:SAME act:elu\n",
      "  [TL] UpSampling2dLayer Generator/UpSampling1: is_scale:True size:[16, 16] method:1 align_corners:False\n",
      "  [TL] Conv2dLayer generator/Generator/conv3: shape:[3, 3, 64, 64] strides:[1, 1, 1, 1] pad:SAME act:elu\n",
      "  [TL] Conv2dLayer generator/Generator/conv4: shape:[3, 3, 64, 64] strides:[1, 1, 1, 1] pad:SAME act:elu\n",
      "  [TL] UpSampling2dLayer Encoder/UpSampling2: is_scale:True size:[32, 32] method:1 align_corners:False\n",
      "  [TL] Conv2dLayer generator/Generator/conv5: shape:[3, 3, 64, 64] strides:[1, 1, 1, 1] pad:SAME act:elu\n",
      "  [TL] Conv2dLayer generator/Generator/conv6: shape:[3, 3, 64, 64] strides:[1, 1, 1, 1] pad:SAME act:elu\n",
      "  [TL] UpSampling2dLayer Generator/UpSampling3: is_scale:True size:[64, 64] method:1 align_corners:False\n",
      "  [TL] Conv2dLayer generator/Generator/conv7: shape:[3, 3, 64, 64] strides:[1, 1, 1, 1] pad:SAME act:elu\n",
      "  [TL] Conv2dLayer generator/Generator/conv8: shape:[3, 3, 64, 64] strides:[1, 1, 1, 1] pad:SAME act:elu\n",
      "  [TL] Conv2dLayer generator/Generator/convLAST: shape:[3, 3, 64, 3] strides:[1, 1, 1, 1] pad:SAME act:identity\n",
      "Restoring model from checkpoint\n",
      "INFO:tensorflow:Restoring parameters from checkpoint2/checkpoint-60000\n"
     ]
    },
    {
     "data": {
      "image/png": "[encoded data removed]",
      "text/plain": [
       "<PIL.Image.Image image mode=RGB size=64x64 at 0x105DBD4A8>"
      ]
     },
     "metadata": {},
     "output_type": "display_data"
    },
    {
     "data": {
      "image/png": "[encoded data removed]",
      "text/plain": [
       "<PIL.Image.Image image mode=RGB size=64x64 at 0x11AF75CC0>"
      ]
     },
     "metadata": {},
     "output_type": "display_data"
    }
   ],
   "source": [
    "import tensorlayer as tl\n",
    "import os\n",
    "from tensorlayer.layers import *\n",
    "import argparse\n",
    "from PIL import Image\n",
    "import matplotlib.pyplot as plt\n",
    "from IPython.display import display\n",
    "\n",
    "def denorm_img(norm):\n",
    "    return tf.clip_by_value((norm + 1)*127.5, 0, 255)\n",
    "\n",
    "def restore_model(sess, checkpoint_path):\n",
    "    # Get the state of the checkpoint and then restore using ckpt path\n",
    "    ckpt = tf.train.get_checkpoint_state(checkpoint_path)\n",
    "\n",
    "    if checkpoint_path is not None:\n",
    "        restorer = tf.train.Saver(tf.get_collection(tf.GraphKeys.GLOBAL_VARIABLES, scope=\"generator\"))\n",
    "        restorer.restore(sess, ckpt.model_checkpoint_path)\n",
    "\n",
    "\n",
    "def generator(z, reuse, hidden_number=64, kernel=3):\n",
    "    w_init = tf.random_normal_initializer(stddev=0.02)\n",
    "\n",
    "    with tf.variable_scope(\"generator\", reuse=reuse):\n",
    "        tl.layers.set_name_reuse(reuse)\n",
    "\n",
    "        # DECODER BEGINS\n",
    "        x = InputLayer(z, name=\"in\")\n",
    "        x = DenseLayer(x, n_units=8 * 8 * hidden_number, name='Generator/dense2')\n",
    "        arguments = {'shape': [-1, 8, 8, hidden_number], 'name': 'Generator/reshape1'}\n",
    "        x = LambdaLayer(x, fn=tf.reshape, fn_args=arguments)\n",
    "        x = Conv2dLayer(x, shape=[kernel, kernel, hidden_number, hidden_number], strides=[1, 1, 1, 1], padding='SAME',\n",
    "                        W_init=w_init, act=tf.nn.elu, name='Generator/conv1')\n",
    "        x = Conv2dLayer(x, shape=[kernel, kernel, hidden_number, hidden_number], strides=[1, 1, 1, 1], padding='SAME',\n",
    "                        W_init=w_init, act=tf.nn.elu, name='Generator/conv2')\n",
    "        x = UpSampling2dLayer(x, size=[2, 2], is_scale=True, method=1, name='Generator/UpSampling1')  # method= 1 NN\n",
    "\n",
    "        x = Conv2dLayer(x, shape=[kernel, kernel, hidden_number, hidden_number], strides=[1, 1, 1, 1], padding='SAME',\n",
    "                        W_init=w_init, act=tf.nn.elu, name='Generator/conv3')\n",
    "        x = Conv2dLayer(x, shape=[kernel, kernel, hidden_number, hidden_number], strides=[1, 1, 1, 1], padding='SAME',\n",
    "                        W_init=w_init, act=tf.nn.elu, name='Generator/conv4')\n",
    "        x = UpSampling2dLayer(x, size=[2, 2], is_scale=True, method=1, name='Encoder/UpSampling2')  # method= 1 NN\n",
    "\n",
    "        x = Conv2dLayer(x, shape=[kernel, kernel, hidden_number, hidden_number], strides=[1, 1, 1, 1], padding='SAME',\n",
    "                        W_init=w_init, act=tf.nn.elu, name='Generator/conv5')\n",
    "        x = Conv2dLayer(x, shape=[kernel, kernel, hidden_number, hidden_number], strides=[1, 1, 1, 1], padding='SAME',\n",
    "                        W_init=w_init, act=tf.nn.elu, name='Generator/conv6')\n",
    "        x = UpSampling2dLayer(x, size=[2, 2], is_scale=True, method=1, name='Generator/UpSampling3')  # method= 1 NN\n",
    "\n",
    "        x = Conv2dLayer(x, shape=[kernel, kernel, hidden_number, hidden_number], strides=[1, 1, 1, 1],\n",
    "                        padding='SAME',\n",
    "                        W_init=w_init, act=tf.nn.elu, name='Generator/conv7')\n",
    "        x = Conv2dLayer(x, shape=[kernel, kernel, hidden_number, hidden_number], strides=[1, 1, 1, 1], padding='SAME',\n",
    "                        W_init=w_init, act=tf.nn.elu, name='Generator/conv8')\n",
    "        x = Conv2dLayer(x, shape=[kernel, kernel, hidden_number, 3], strides=[1, 1, 1, 1], padding='SAME',\n",
    "                        W_init=w_init, name='Generator/convLAST')\n",
    "\n",
    "        return x\n",
    "\n",
    "\n",
    "def test(images_to_generate, z_num = 64, reuse = False, checkpoint = \"checkpoint2\"):\n",
    "    # ##========================== DEFINE INPUT DATA ============================###\n",
    "    z = tf.placeholder('float32', [None, z_num], name='t_noise_generator')\n",
    "\n",
    "    # ##========================== DEFINE MODEL ============================###\n",
    "    net_gen = generator(z=z, reuse=reuse)\n",
    "\n",
    "    output_gen = denorm_img(net_gen.outputs)  # Denormalization\n",
    "\n",
    "    with tf.Session() as sess:\n",
    "        print(\"Restoring model from checkpoint\")\n",
    "        restore_model(sess, checkpoint)\n",
    "\n",
    "        for iteration in range(0, images_to_generate):\n",
    "            input_z = np.random.uniform(-1., 1., size=[1, z_num])\n",
    "            output_image = sess.run(output_gen, feed_dict={z: input_z})[0]\n",
    "            ima = Image.fromarray(output_image.astype(np.uint8), 'RGB')\n",
    "            display(ima)\n",
    "            iteration += 1\n",
    "\n",
    "\n",
    "\n",
    "if __name__ == '__main__':\n",
    "    test(images_to_generate = 2)\n"
   ]
  },
  {
   "cell_type": "code",
   "execution_count": null,
   "metadata": {
    "collapsed": true
   },
   "outputs": [],
   "source": []
  }
 ],
 "metadata": {
  "kernelspec": {
   "display_name": "Python 3",
   "language": "python",
   "name": "python3"
  },
  "language_info": {
   "codemirror_mode": {
    "name": "ipython",
    "version": 3
   },
   "file_extension": ".py",
   "mimetype": "text/x-python",
   "name": "python",
   "nbconvert_exporter": "python",
   "pygments_lexer": "ipython3",
   "version": "3.6.0"
  }
 },
 "nbformat": 4,
 "nbformat_minor": 2
}
